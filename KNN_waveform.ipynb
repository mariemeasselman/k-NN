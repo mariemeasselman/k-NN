{
  "nbformat": 4,
  "nbformat_minor": 0,
  "metadata": {
    "colab": {
      "provenance": [],
      "collapsed_sections": [
        "6Z16CHv2cvCl",
        "0Q1OGq5YlhTB"
      ]
    },
    "kernelspec": {
      "name": "python3",
      "display_name": "Python 3"
    },
    "language_info": {
      "name": "python"
    }
  },
  "cells": [
    {
      "cell_type": "markdown",
      "source": [
        "# **k-Nearest Neighbors**\n",
        "The k-Nearest Neighbors algorithm or KNN for short is a straightforward approach in which the entire training dataset is stored. When making predictions, the k-most similar records to a new record from the training dataset are identified. Various methods can be employed to measure similarity between records, with the Euclidean distance being a common choice for tabular data. After locating the neighbors, a summary prediction is derived by either returning the most frequent outcome or computing the average. Consequently, KNN can be applied to both classification and regression problems.\n",
        "\n",
        "\n",
        "In this notebook, our initial steps involve data preparation, including the upload and normalization of the dataset. We proceed to implement k-NN from scratch as a preliminary measure. Following that, we determine the optimal value for k from a range of 30 values to achieve the highest accuracy. Subsequently, we explore a data reduction technique and assess the accuracy of 1-NN applied to both datasets. Additionally, we compare the time complexity of various algorithms that k-NN can employ to speed up distance calculations. Lastly, we investigate the impact of class imbalance on accuracy."
      ],
      "metadata": {
        "id": "QTQRC0QBV8to"
      }
    },
    {
      "cell_type": "code",
      "source": [
        "import numpy as np\n",
        "import pandas as pd\n",
        "import timeit\n",
        "import matplotlib.pyplot as plt\n",
        "import seaborn as sns\n",
        "\n",
        "from sklearn import neighbors as nn\n",
        "from sklearn.preprocessing import MinMaxScaler\n",
        "from sklearn.model_selection import train_test_split, cross_val_score\n",
        "from sklearn.metrics import accuracy_score, f1_score\n",
        "from sklearn.utils import shuffle\n",
        "from imblearn.over_sampling import RandomOverSampler\n",
        "from imblearn.pipeline import Pipeline\n",
        "from sklearn.decomposition import PCA"
      ],
      "metadata": {
        "id": "-uuvuXSkcxzK"
      },
      "execution_count": null,
      "outputs": []
    },
    {
      "cell_type": "markdown",
      "source": [
        "# **1. Data Preparation**"
      ],
      "metadata": {
        "id": "6Z16CHv2cvCl"
      }
    },
    {
      "cell_type": "markdown",
      "source": [
        "**1.1. Uploading the dataset**"
      ],
      "metadata": {
        "id": "_f2kfkd6dZIe"
      }
    },
    {
      "cell_type": "code",
      "execution_count": null,
      "metadata": {
        "colab": {
          "base_uri": "https://localhost:8080/",
          "height": 235
        },
        "id": "zJoS9ymRyW6q",
        "outputId": "86dd38b0-7338-42b9-af0a-d107e7506e11"
      },
      "outputs": [
        {
          "output_type": "execute_result",
          "data": {
            "text/plain": [
              "     0     1     2     3     4     5     6     7     8     9   ...    12  \\\n",
              "0 -1.23 -1.56 -1.75 -0.28  0.60  2.22  0.85  0.21 -0.20  0.89  ...  2.89   \n",
              "1 -0.69  2.43  0.61  2.08  2.30  3.25  5.52  4.55  2.97  2.22  ...  1.24   \n",
              "2 -0.12 -0.94  1.29  2.59  2.42  3.55  4.94  3.25  1.90  2.07  ...  2.50   \n",
              "3  0.86  0.29  2.19 -0.02  1.13  2.51  2.37  5.45  5.45  4.84  ...  2.58   \n",
              "4  1.16  0.37  0.40 -0.59  2.66  1.00  2.69  4.06  5.34  3.53  ...  4.30   \n",
              "\n",
              "     13    14    15    16    17    18    19    20  21  \n",
              "0  7.75  4.59  3.15  5.12  3.32  1.20  0.24 -0.56   2  \n",
              "1  1.89  1.88 -1.34  0.83  1.41  1.78  0.60  2.42   1  \n",
              "2  0.12  1.41  2.78  0.64  0.62 -0.01 -0.79 -0.12   0  \n",
              "3  1.40  1.24  1.41  1.07 -1.43  2.84 -1.18  1.12   1  \n",
              "4  1.84  1.73  0.21 -0.18  0.13 -0.21 -0.80 -0.68   1  \n",
              "\n",
              "[5 rows x 22 columns]"
            ],
            "text/html": [
              "\n",
              "  <div id=\"df-d615f7e1-d558-432e-9537-eb907c6e09a2\" class=\"colab-df-container\">\n",
              "    <div>\n",
              "<style scoped>\n",
              "    .dataframe tbody tr th:only-of-type {\n",
              "        vertical-align: middle;\n",
              "    }\n",
              "\n",
              "    .dataframe tbody tr th {\n",
              "        vertical-align: top;\n",
              "    }\n",
              "\n",
              "    .dataframe thead th {\n",
              "        text-align: right;\n",
              "    }\n",
              "</style>\n",
              "<table border=\"1\" class=\"dataframe\">\n",
              "  <thead>\n",
              "    <tr style=\"text-align: right;\">\n",
              "      <th></th>\n",
              "      <th>0</th>\n",
              "      <th>1</th>\n",
              "      <th>2</th>\n",
              "      <th>3</th>\n",
              "      <th>4</th>\n",
              "      <th>5</th>\n",
              "      <th>6</th>\n",
              "      <th>7</th>\n",
              "      <th>8</th>\n",
              "      <th>9</th>\n",
              "      <th>...</th>\n",
              "      <th>12</th>\n",
              "      <th>13</th>\n",
              "      <th>14</th>\n",
              "      <th>15</th>\n",
              "      <th>16</th>\n",
              "      <th>17</th>\n",
              "      <th>18</th>\n",
              "      <th>19</th>\n",
              "      <th>20</th>\n",
              "      <th>21</th>\n",
              "    </tr>\n",
              "  </thead>\n",
              "  <tbody>\n",
              "    <tr>\n",
              "      <th>0</th>\n",
              "      <td>-1.23</td>\n",
              "      <td>-1.56</td>\n",
              "      <td>-1.75</td>\n",
              "      <td>-0.28</td>\n",
              "      <td>0.60</td>\n",
              "      <td>2.22</td>\n",
              "      <td>0.85</td>\n",
              "      <td>0.21</td>\n",
              "      <td>-0.20</td>\n",
              "      <td>0.89</td>\n",
              "      <td>...</td>\n",
              "      <td>2.89</td>\n",
              "      <td>7.75</td>\n",
              "      <td>4.59</td>\n",
              "      <td>3.15</td>\n",
              "      <td>5.12</td>\n",
              "      <td>3.32</td>\n",
              "      <td>1.20</td>\n",
              "      <td>0.24</td>\n",
              "      <td>-0.56</td>\n",
              "      <td>2</td>\n",
              "    </tr>\n",
              "    <tr>\n",
              "      <th>1</th>\n",
              "      <td>-0.69</td>\n",
              "      <td>2.43</td>\n",
              "      <td>0.61</td>\n",
              "      <td>2.08</td>\n",
              "      <td>2.30</td>\n",
              "      <td>3.25</td>\n",
              "      <td>5.52</td>\n",
              "      <td>4.55</td>\n",
              "      <td>2.97</td>\n",
              "      <td>2.22</td>\n",
              "      <td>...</td>\n",
              "      <td>1.24</td>\n",
              "      <td>1.89</td>\n",
              "      <td>1.88</td>\n",
              "      <td>-1.34</td>\n",
              "      <td>0.83</td>\n",
              "      <td>1.41</td>\n",
              "      <td>1.78</td>\n",
              "      <td>0.60</td>\n",
              "      <td>2.42</td>\n",
              "      <td>1</td>\n",
              "    </tr>\n",
              "    <tr>\n",
              "      <th>2</th>\n",
              "      <td>-0.12</td>\n",
              "      <td>-0.94</td>\n",
              "      <td>1.29</td>\n",
              "      <td>2.59</td>\n",
              "      <td>2.42</td>\n",
              "      <td>3.55</td>\n",
              "      <td>4.94</td>\n",
              "      <td>3.25</td>\n",
              "      <td>1.90</td>\n",
              "      <td>2.07</td>\n",
              "      <td>...</td>\n",
              "      <td>2.50</td>\n",
              "      <td>0.12</td>\n",
              "      <td>1.41</td>\n",
              "      <td>2.78</td>\n",
              "      <td>0.64</td>\n",
              "      <td>0.62</td>\n",
              "      <td>-0.01</td>\n",
              "      <td>-0.79</td>\n",
              "      <td>-0.12</td>\n",
              "      <td>0</td>\n",
              "    </tr>\n",
              "    <tr>\n",
              "      <th>3</th>\n",
              "      <td>0.86</td>\n",
              "      <td>0.29</td>\n",
              "      <td>2.19</td>\n",
              "      <td>-0.02</td>\n",
              "      <td>1.13</td>\n",
              "      <td>2.51</td>\n",
              "      <td>2.37</td>\n",
              "      <td>5.45</td>\n",
              "      <td>5.45</td>\n",
              "      <td>4.84</td>\n",
              "      <td>...</td>\n",
              "      <td>2.58</td>\n",
              "      <td>1.40</td>\n",
              "      <td>1.24</td>\n",
              "      <td>1.41</td>\n",
              "      <td>1.07</td>\n",
              "      <td>-1.43</td>\n",
              "      <td>2.84</td>\n",
              "      <td>-1.18</td>\n",
              "      <td>1.12</td>\n",
              "      <td>1</td>\n",
              "    </tr>\n",
              "    <tr>\n",
              "      <th>4</th>\n",
              "      <td>1.16</td>\n",
              "      <td>0.37</td>\n",
              "      <td>0.40</td>\n",
              "      <td>-0.59</td>\n",
              "      <td>2.66</td>\n",
              "      <td>1.00</td>\n",
              "      <td>2.69</td>\n",
              "      <td>4.06</td>\n",
              "      <td>5.34</td>\n",
              "      <td>3.53</td>\n",
              "      <td>...</td>\n",
              "      <td>4.30</td>\n",
              "      <td>1.84</td>\n",
              "      <td>1.73</td>\n",
              "      <td>0.21</td>\n",
              "      <td>-0.18</td>\n",
              "      <td>0.13</td>\n",
              "      <td>-0.21</td>\n",
              "      <td>-0.80</td>\n",
              "      <td>-0.68</td>\n",
              "      <td>1</td>\n",
              "    </tr>\n",
              "  </tbody>\n",
              "</table>\n",
              "<p>5 rows × 22 columns</p>\n",
              "</div>\n",
              "    <div class=\"colab-df-buttons\">\n",
              "\n",
              "  <div class=\"colab-df-container\">\n",
              "    <button class=\"colab-df-convert\" onclick=\"convertToInteractive('df-d615f7e1-d558-432e-9537-eb907c6e09a2')\"\n",
              "            title=\"Convert this dataframe to an interactive table.\"\n",
              "            style=\"display:none;\">\n",
              "\n",
              "  <svg xmlns=\"http://www.w3.org/2000/svg\" height=\"24px\" viewBox=\"0 -960 960 960\">\n",
              "    <path d=\"M120-120v-720h720v720H120Zm60-500h600v-160H180v160Zm220 220h160v-160H400v160Zm0 220h160v-160H400v160ZM180-400h160v-160H180v160Zm440 0h160v-160H620v160ZM180-180h160v-160H180v160Zm440 0h160v-160H620v160Z\"/>\n",
              "  </svg>\n",
              "    </button>\n",
              "\n",
              "  <style>\n",
              "    .colab-df-container {\n",
              "      display:flex;\n",
              "      gap: 12px;\n",
              "    }\n",
              "\n",
              "    .colab-df-convert {\n",
              "      background-color: #E8F0FE;\n",
              "      border: none;\n",
              "      border-radius: 50%;\n",
              "      cursor: pointer;\n",
              "      display: none;\n",
              "      fill: #1967D2;\n",
              "      height: 32px;\n",
              "      padding: 0 0 0 0;\n",
              "      width: 32px;\n",
              "    }\n",
              "\n",
              "    .colab-df-convert:hover {\n",
              "      background-color: #E2EBFA;\n",
              "      box-shadow: 0px 1px 2px rgba(60, 64, 67, 0.3), 0px 1px 3px 1px rgba(60, 64, 67, 0.15);\n",
              "      fill: #174EA6;\n",
              "    }\n",
              "\n",
              "    .colab-df-buttons div {\n",
              "      margin-bottom: 4px;\n",
              "    }\n",
              "\n",
              "    [theme=dark] .colab-df-convert {\n",
              "      background-color: #3B4455;\n",
              "      fill: #D2E3FC;\n",
              "    }\n",
              "\n",
              "    [theme=dark] .colab-df-convert:hover {\n",
              "      background-color: #434B5C;\n",
              "      box-shadow: 0px 1px 3px 1px rgba(0, 0, 0, 0.15);\n",
              "      filter: drop-shadow(0px 1px 2px rgba(0, 0, 0, 0.3));\n",
              "      fill: #FFFFFF;\n",
              "    }\n",
              "  </style>\n",
              "\n",
              "    <script>\n",
              "      const buttonEl =\n",
              "        document.querySelector('#df-d615f7e1-d558-432e-9537-eb907c6e09a2 button.colab-df-convert');\n",
              "      buttonEl.style.display =\n",
              "        google.colab.kernel.accessAllowed ? 'block' : 'none';\n",
              "\n",
              "      async function convertToInteractive(key) {\n",
              "        const element = document.querySelector('#df-d615f7e1-d558-432e-9537-eb907c6e09a2');\n",
              "        const dataTable =\n",
              "          await google.colab.kernel.invokeFunction('convertToInteractive',\n",
              "                                                    [key], {});\n",
              "        if (!dataTable) return;\n",
              "\n",
              "        const docLinkHtml = 'Like what you see? Visit the ' +\n",
              "          '<a target=\"_blank\" href=https://colab.research.google.com/notebooks/data_table.ipynb>data table notebook</a>'\n",
              "          + ' to learn more about interactive tables.';\n",
              "        element.innerHTML = '';\n",
              "        dataTable['output_type'] = 'display_data';\n",
              "        await google.colab.output.renderOutput(dataTable, element);\n",
              "        const docLink = document.createElement('div');\n",
              "        docLink.innerHTML = docLinkHtml;\n",
              "        element.appendChild(docLink);\n",
              "      }\n",
              "    </script>\n",
              "  </div>\n",
              "\n",
              "\n",
              "<div id=\"df-7d242a94-79d4-44b8-8516-3c1aaf2c1f9b\">\n",
              "  <button class=\"colab-df-quickchart\" onclick=\"quickchart('df-7d242a94-79d4-44b8-8516-3c1aaf2c1f9b')\"\n",
              "            title=\"Suggest charts\"\n",
              "            style=\"display:none;\">\n",
              "\n",
              "<svg xmlns=\"http://www.w3.org/2000/svg\" height=\"24px\"viewBox=\"0 0 24 24\"\n",
              "     width=\"24px\">\n",
              "    <g>\n",
              "        <path d=\"M19 3H5c-1.1 0-2 .9-2 2v14c0 1.1.9 2 2 2h14c1.1 0 2-.9 2-2V5c0-1.1-.9-2-2-2zM9 17H7v-7h2v7zm4 0h-2V7h2v10zm4 0h-2v-4h2v4z\"/>\n",
              "    </g>\n",
              "</svg>\n",
              "  </button>\n",
              "\n",
              "<style>\n",
              "  .colab-df-quickchart {\n",
              "      --bg-color: #E8F0FE;\n",
              "      --fill-color: #1967D2;\n",
              "      --hover-bg-color: #E2EBFA;\n",
              "      --hover-fill-color: #174EA6;\n",
              "      --disabled-fill-color: #AAA;\n",
              "      --disabled-bg-color: #DDD;\n",
              "  }\n",
              "\n",
              "  [theme=dark] .colab-df-quickchart {\n",
              "      --bg-color: #3B4455;\n",
              "      --fill-color: #D2E3FC;\n",
              "      --hover-bg-color: #434B5C;\n",
              "      --hover-fill-color: #FFFFFF;\n",
              "      --disabled-bg-color: #3B4455;\n",
              "      --disabled-fill-color: #666;\n",
              "  }\n",
              "\n",
              "  .colab-df-quickchart {\n",
              "    background-color: var(--bg-color);\n",
              "    border: none;\n",
              "    border-radius: 50%;\n",
              "    cursor: pointer;\n",
              "    display: none;\n",
              "    fill: var(--fill-color);\n",
              "    height: 32px;\n",
              "    padding: 0;\n",
              "    width: 32px;\n",
              "  }\n",
              "\n",
              "  .colab-df-quickchart:hover {\n",
              "    background-color: var(--hover-bg-color);\n",
              "    box-shadow: 0 1px 2px rgba(60, 64, 67, 0.3), 0 1px 3px 1px rgba(60, 64, 67, 0.15);\n",
              "    fill: var(--button-hover-fill-color);\n",
              "  }\n",
              "\n",
              "  .colab-df-quickchart-complete:disabled,\n",
              "  .colab-df-quickchart-complete:disabled:hover {\n",
              "    background-color: var(--disabled-bg-color);\n",
              "    fill: var(--disabled-fill-color);\n",
              "    box-shadow: none;\n",
              "  }\n",
              "\n",
              "  .colab-df-spinner {\n",
              "    border: 2px solid var(--fill-color);\n",
              "    border-color: transparent;\n",
              "    border-bottom-color: var(--fill-color);\n",
              "    animation:\n",
              "      spin 1s steps(1) infinite;\n",
              "  }\n",
              "\n",
              "  @keyframes spin {\n",
              "    0% {\n",
              "      border-color: transparent;\n",
              "      border-bottom-color: var(--fill-color);\n",
              "      border-left-color: var(--fill-color);\n",
              "    }\n",
              "    20% {\n",
              "      border-color: transparent;\n",
              "      border-left-color: var(--fill-color);\n",
              "      border-top-color: var(--fill-color);\n",
              "    }\n",
              "    30% {\n",
              "      border-color: transparent;\n",
              "      border-left-color: var(--fill-color);\n",
              "      border-top-color: var(--fill-color);\n",
              "      border-right-color: var(--fill-color);\n",
              "    }\n",
              "    40% {\n",
              "      border-color: transparent;\n",
              "      border-right-color: var(--fill-color);\n",
              "      border-top-color: var(--fill-color);\n",
              "    }\n",
              "    60% {\n",
              "      border-color: transparent;\n",
              "      border-right-color: var(--fill-color);\n",
              "    }\n",
              "    80% {\n",
              "      border-color: transparent;\n",
              "      border-right-color: var(--fill-color);\n",
              "      border-bottom-color: var(--fill-color);\n",
              "    }\n",
              "    90% {\n",
              "      border-color: transparent;\n",
              "      border-bottom-color: var(--fill-color);\n",
              "    }\n",
              "  }\n",
              "</style>\n",
              "\n",
              "  <script>\n",
              "    async function quickchart(key) {\n",
              "      const quickchartButtonEl =\n",
              "        document.querySelector('#' + key + ' button');\n",
              "      quickchartButtonEl.disabled = true;  // To prevent multiple clicks.\n",
              "      quickchartButtonEl.classList.add('colab-df-spinner');\n",
              "      try {\n",
              "        const charts = await google.colab.kernel.invokeFunction(\n",
              "            'suggestCharts', [key], {});\n",
              "      } catch (error) {\n",
              "        console.error('Error during call to suggestCharts:', error);\n",
              "      }\n",
              "      quickchartButtonEl.classList.remove('colab-df-spinner');\n",
              "      quickchartButtonEl.classList.add('colab-df-quickchart-complete');\n",
              "    }\n",
              "    (() => {\n",
              "      let quickchartButtonEl =\n",
              "        document.querySelector('#df-7d242a94-79d4-44b8-8516-3c1aaf2c1f9b button');\n",
              "      quickchartButtonEl.style.display =\n",
              "        google.colab.kernel.accessAllowed ? 'block' : 'none';\n",
              "    })();\n",
              "  </script>\n",
              "</div>\n",
              "    </div>\n",
              "  </div>\n"
            ]
          },
          "metadata": {},
          "execution_count": 6
        }
      ],
      "source": [
        "# reading the waveform data file\n",
        "data = pd.read_csv('waveform.data', header=None, sep=\",\")\n",
        "data.head()"
      ]
    },
    {
      "cell_type": "markdown",
      "source": [
        "**1.2. Normalizing the dataset**\n",
        "\n",
        "Finding the minimum and maximum values for each column and rescaling the dataset columns to the range 0-1 is a common preprocessing step in machine learning, including k-nearest neighbors (KNN) algorithms. This process is known as feature scaling or normalization, and it serves several purposes:\n",
        "\n",
        "\n",
        "\n",
        "> a. Equal Weighting of Features: KNN is a distance-based algorithm, and distances are sensitive to the scale of the features. Features with larger magnitudes might dominate the distance computations, leading to a biased influence on the model. Rescaling ensures that all features contribute equally to the distance calculations, preventing features with larger scales from having an undue influence.\n",
        "\n",
        "> b. Improved Convergence: Many machine learning algorithms, including KNN, converge faster when features are on a similar scale. Normalizing features can lead to quicker convergence during the training process.\n",
        "\n",
        "> c. Outlier Sensitivity: KNN can be sensitive to outliers. Rescaling helps mitigate the impact of outliers by bringing all data points to a similar scale, making the algorithm more robust.\n",
        "\n",
        "> d. Distance Metrics: KNN relies on distance metrics (such as Euclidean distance) to determine the \"closeness\" of data points. Rescaling ensures that the distances are meaningful and not dominated by the scale of the features.\n",
        "\n",
        "To normalize the data, we can use either the 'MinMaxScaler' from sickit-learn or build a function from scratch.\n"
      ],
      "metadata": {
        "id": "cvj7RQSZdV8K"
      }
    },
    {
      "cell_type": "code",
      "source": [
        "# Using MinMaxScaler\n",
        "columns_to_normalize = data.columns\n",
        "data_normalized = data.copy()\n",
        "scaler = MinMaxScaler()\n",
        "data_normalized[columns_to_normalize] = scaler.fit_transform(data_normalized[columns_to_normalize])"
      ],
      "metadata": {
        "id": "B_-On5Muj8Vc"
      },
      "execution_count": null,
      "outputs": []
    },
    {
      "cell_type": "code",
      "source": [
        "# Using a personal function\n",
        "# Finding the min and max values for each column\n",
        "def dataset_minmax(dataset):\n",
        "  minmax = list()\n",
        "  for i in range(len(dataset.columns)-1): # Considering all columns but the target\n",
        "    col_values = dataset.iloc[:, i]  # Extracting all values from the i-th column\n",
        "    value_min = col_values.min() # Finding the minimum value in the column\n",
        "    value_max = col_values.max() # Finding the maximum value in the column\n",
        "    minmax.append([value_min, value_max])\n",
        "  return minmax\n",
        "\n",
        "# Rescaling dataset columns to the range 0-1\n",
        "def normalize_dataframe(dataset, minmax):\n",
        "  for i in range(len(dataset.columns)-1): # Considering all columns but the target\n",
        "    # Normalizes the value in the i-th column of the current row using the formula (value - min)/(max - min)\n",
        "    dataset.iloc[:, i] = (dataset.iloc[:, i] - minmax[i][0]) / (minmax[i][1] - minmax[i][0])\n",
        "  return dataset\n",
        "\n",
        "# Applying the two functions on our dataset\n",
        "minmax = dataset_minmax(data)\n",
        "data_normalized = normalize_dataframe(data, minmax)\n",
        "data_normalized.head()"
      ],
      "metadata": {
        "id": "0y-Ijw-gk9h8",
        "colab": {
          "base_uri": "https://localhost:8080/",
          "height": 255
        },
        "outputId": "24893964-2a4e-4c4b-b59b-aa5522b15d47"
      },
      "execution_count": null,
      "outputs": [
        {
          "output_type": "execute_result",
          "data": {
            "text/plain": [
              "         0         1         2         3         4         5         6   \\\n",
              "0  0.289835  0.237027  0.274664  0.371220  0.408818  0.479769  0.345199   \n",
              "1  0.364011  0.796634  0.539238  0.617310  0.579158  0.578998  0.731788   \n",
              "2  0.442308  0.323983  0.615471  0.670490  0.591182  0.607900  0.683775   \n",
              "3  0.576923  0.496494  0.716368  0.398332  0.461924  0.507707  0.471026   \n",
              "4  0.618132  0.507714  0.515695  0.338895  0.615230  0.362235  0.497517   \n",
              "\n",
              "         7         8         9   ...        12        13        14        15  \\\n",
              "0  0.328345  0.281915  0.284501  ...  0.544016  1.000000  0.633865  0.565899   \n",
              "1  0.710387  0.562943  0.425690  ...  0.380811  0.445601  0.393617  0.152074   \n",
              "2  0.595951  0.468085  0.409766  ...  0.505440  0.278146  0.351950  0.531797   \n",
              "3  0.789613  0.782801  0.703822  ...  0.513353  0.399243  0.336879  0.405530   \n",
              "4  0.667254  0.773050  0.564756  ...  0.683482  0.440870  0.380319  0.294931   \n",
              "\n",
              "         16        17        18        19        20  21  \n",
              "0  0.842718  0.719844  0.535308  0.463504  0.420786   2  \n",
              "1  0.426214  0.534047  0.601367  0.507299  0.798479   1  \n",
              "2  0.407767  0.457198  0.397494  0.338200  0.476553   0  \n",
              "3  0.449515  0.257782  0.722096  0.290754  0.633714   1  \n",
              "4  0.328155  0.409533  0.374715  0.336983  0.405577   1  \n",
              "\n",
              "[5 rows x 22 columns]"
            ],
            "text/html": [
              "\n",
              "  <div id=\"df-9d346c61-623e-4394-8b49-10e874b86bab\" class=\"colab-df-container\">\n",
              "    <div>\n",
              "<style scoped>\n",
              "    .dataframe tbody tr th:only-of-type {\n",
              "        vertical-align: middle;\n",
              "    }\n",
              "\n",
              "    .dataframe tbody tr th {\n",
              "        vertical-align: top;\n",
              "    }\n",
              "\n",
              "    .dataframe thead th {\n",
              "        text-align: right;\n",
              "    }\n",
              "</style>\n",
              "<table border=\"1\" class=\"dataframe\">\n",
              "  <thead>\n",
              "    <tr style=\"text-align: right;\">\n",
              "      <th></th>\n",
              "      <th>0</th>\n",
              "      <th>1</th>\n",
              "      <th>2</th>\n",
              "      <th>3</th>\n",
              "      <th>4</th>\n",
              "      <th>5</th>\n",
              "      <th>6</th>\n",
              "      <th>7</th>\n",
              "      <th>8</th>\n",
              "      <th>9</th>\n",
              "      <th>...</th>\n",
              "      <th>12</th>\n",
              "      <th>13</th>\n",
              "      <th>14</th>\n",
              "      <th>15</th>\n",
              "      <th>16</th>\n",
              "      <th>17</th>\n",
              "      <th>18</th>\n",
              "      <th>19</th>\n",
              "      <th>20</th>\n",
              "      <th>21</th>\n",
              "    </tr>\n",
              "  </thead>\n",
              "  <tbody>\n",
              "    <tr>\n",
              "      <th>0</th>\n",
              "      <td>0.289835</td>\n",
              "      <td>0.237027</td>\n",
              "      <td>0.274664</td>\n",
              "      <td>0.371220</td>\n",
              "      <td>0.408818</td>\n",
              "      <td>0.479769</td>\n",
              "      <td>0.345199</td>\n",
              "      <td>0.328345</td>\n",
              "      <td>0.281915</td>\n",
              "      <td>0.284501</td>\n",
              "      <td>...</td>\n",
              "      <td>0.544016</td>\n",
              "      <td>1.000000</td>\n",
              "      <td>0.633865</td>\n",
              "      <td>0.565899</td>\n",
              "      <td>0.842718</td>\n",
              "      <td>0.719844</td>\n",
              "      <td>0.535308</td>\n",
              "      <td>0.463504</td>\n",
              "      <td>0.420786</td>\n",
              "      <td>2</td>\n",
              "    </tr>\n",
              "    <tr>\n",
              "      <th>1</th>\n",
              "      <td>0.364011</td>\n",
              "      <td>0.796634</td>\n",
              "      <td>0.539238</td>\n",
              "      <td>0.617310</td>\n",
              "      <td>0.579158</td>\n",
              "      <td>0.578998</td>\n",
              "      <td>0.731788</td>\n",
              "      <td>0.710387</td>\n",
              "      <td>0.562943</td>\n",
              "      <td>0.425690</td>\n",
              "      <td>...</td>\n",
              "      <td>0.380811</td>\n",
              "      <td>0.445601</td>\n",
              "      <td>0.393617</td>\n",
              "      <td>0.152074</td>\n",
              "      <td>0.426214</td>\n",
              "      <td>0.534047</td>\n",
              "      <td>0.601367</td>\n",
              "      <td>0.507299</td>\n",
              "      <td>0.798479</td>\n",
              "      <td>1</td>\n",
              "    </tr>\n",
              "    <tr>\n",
              "      <th>2</th>\n",
              "      <td>0.442308</td>\n",
              "      <td>0.323983</td>\n",
              "      <td>0.615471</td>\n",
              "      <td>0.670490</td>\n",
              "      <td>0.591182</td>\n",
              "      <td>0.607900</td>\n",
              "      <td>0.683775</td>\n",
              "      <td>0.595951</td>\n",
              "      <td>0.468085</td>\n",
              "      <td>0.409766</td>\n",
              "      <td>...</td>\n",
              "      <td>0.505440</td>\n",
              "      <td>0.278146</td>\n",
              "      <td>0.351950</td>\n",
              "      <td>0.531797</td>\n",
              "      <td>0.407767</td>\n",
              "      <td>0.457198</td>\n",
              "      <td>0.397494</td>\n",
              "      <td>0.338200</td>\n",
              "      <td>0.476553</td>\n",
              "      <td>0</td>\n",
              "    </tr>\n",
              "    <tr>\n",
              "      <th>3</th>\n",
              "      <td>0.576923</td>\n",
              "      <td>0.496494</td>\n",
              "      <td>0.716368</td>\n",
              "      <td>0.398332</td>\n",
              "      <td>0.461924</td>\n",
              "      <td>0.507707</td>\n",
              "      <td>0.471026</td>\n",
              "      <td>0.789613</td>\n",
              "      <td>0.782801</td>\n",
              "      <td>0.703822</td>\n",
              "      <td>...</td>\n",
              "      <td>0.513353</td>\n",
              "      <td>0.399243</td>\n",
              "      <td>0.336879</td>\n",
              "      <td>0.405530</td>\n",
              "      <td>0.449515</td>\n",
              "      <td>0.257782</td>\n",
              "      <td>0.722096</td>\n",
              "      <td>0.290754</td>\n",
              "      <td>0.633714</td>\n",
              "      <td>1</td>\n",
              "    </tr>\n",
              "    <tr>\n",
              "      <th>4</th>\n",
              "      <td>0.618132</td>\n",
              "      <td>0.507714</td>\n",
              "      <td>0.515695</td>\n",
              "      <td>0.338895</td>\n",
              "      <td>0.615230</td>\n",
              "      <td>0.362235</td>\n",
              "      <td>0.497517</td>\n",
              "      <td>0.667254</td>\n",
              "      <td>0.773050</td>\n",
              "      <td>0.564756</td>\n",
              "      <td>...</td>\n",
              "      <td>0.683482</td>\n",
              "      <td>0.440870</td>\n",
              "      <td>0.380319</td>\n",
              "      <td>0.294931</td>\n",
              "      <td>0.328155</td>\n",
              "      <td>0.409533</td>\n",
              "      <td>0.374715</td>\n",
              "      <td>0.336983</td>\n",
              "      <td>0.405577</td>\n",
              "      <td>1</td>\n",
              "    </tr>\n",
              "  </tbody>\n",
              "</table>\n",
              "<p>5 rows × 22 columns</p>\n",
              "</div>\n",
              "    <div class=\"colab-df-buttons\">\n",
              "\n",
              "  <div class=\"colab-df-container\">\n",
              "    <button class=\"colab-df-convert\" onclick=\"convertToInteractive('df-9d346c61-623e-4394-8b49-10e874b86bab')\"\n",
              "            title=\"Convert this dataframe to an interactive table.\"\n",
              "            style=\"display:none;\">\n",
              "\n",
              "  <svg xmlns=\"http://www.w3.org/2000/svg\" height=\"24px\" viewBox=\"0 -960 960 960\">\n",
              "    <path d=\"M120-120v-720h720v720H120Zm60-500h600v-160H180v160Zm220 220h160v-160H400v160Zm0 220h160v-160H400v160ZM180-400h160v-160H180v160Zm440 0h160v-160H620v160ZM180-180h160v-160H180v160Zm440 0h160v-160H620v160Z\"/>\n",
              "  </svg>\n",
              "    </button>\n",
              "\n",
              "  <style>\n",
              "    .colab-df-container {\n",
              "      display:flex;\n",
              "      gap: 12px;\n",
              "    }\n",
              "\n",
              "    .colab-df-convert {\n",
              "      background-color: #E8F0FE;\n",
              "      border: none;\n",
              "      border-radius: 50%;\n",
              "      cursor: pointer;\n",
              "      display: none;\n",
              "      fill: #1967D2;\n",
              "      height: 32px;\n",
              "      padding: 0 0 0 0;\n",
              "      width: 32px;\n",
              "    }\n",
              "\n",
              "    .colab-df-convert:hover {\n",
              "      background-color: #E2EBFA;\n",
              "      box-shadow: 0px 1px 2px rgba(60, 64, 67, 0.3), 0px 1px 3px 1px rgba(60, 64, 67, 0.15);\n",
              "      fill: #174EA6;\n",
              "    }\n",
              "\n",
              "    .colab-df-buttons div {\n",
              "      margin-bottom: 4px;\n",
              "    }\n",
              "\n",
              "    [theme=dark] .colab-df-convert {\n",
              "      background-color: #3B4455;\n",
              "      fill: #D2E3FC;\n",
              "    }\n",
              "\n",
              "    [theme=dark] .colab-df-convert:hover {\n",
              "      background-color: #434B5C;\n",
              "      box-shadow: 0px 1px 3px 1px rgba(0, 0, 0, 0.15);\n",
              "      filter: drop-shadow(0px 1px 2px rgba(0, 0, 0, 0.3));\n",
              "      fill: #FFFFFF;\n",
              "    }\n",
              "  </style>\n",
              "\n",
              "    <script>\n",
              "      const buttonEl =\n",
              "        document.querySelector('#df-9d346c61-623e-4394-8b49-10e874b86bab button.colab-df-convert');\n",
              "      buttonEl.style.display =\n",
              "        google.colab.kernel.accessAllowed ? 'block' : 'none';\n",
              "\n",
              "      async function convertToInteractive(key) {\n",
              "        const element = document.querySelector('#df-9d346c61-623e-4394-8b49-10e874b86bab');\n",
              "        const dataTable =\n",
              "          await google.colab.kernel.invokeFunction('convertToInteractive',\n",
              "                                                    [key], {});\n",
              "        if (!dataTable) return;\n",
              "\n",
              "        const docLinkHtml = 'Like what you see? Visit the ' +\n",
              "          '<a target=\"_blank\" href=https://colab.research.google.com/notebooks/data_table.ipynb>data table notebook</a>'\n",
              "          + ' to learn more about interactive tables.';\n",
              "        element.innerHTML = '';\n",
              "        dataTable['output_type'] = 'display_data';\n",
              "        await google.colab.output.renderOutput(dataTable, element);\n",
              "        const docLink = document.createElement('div');\n",
              "        docLink.innerHTML = docLinkHtml;\n",
              "        element.appendChild(docLink);\n",
              "      }\n",
              "    </script>\n",
              "  </div>\n",
              "\n",
              "\n",
              "<div id=\"df-adf4514e-4778-454d-99da-066f38501ff5\">\n",
              "  <button class=\"colab-df-quickchart\" onclick=\"quickchart('df-adf4514e-4778-454d-99da-066f38501ff5')\"\n",
              "            title=\"Suggest charts\"\n",
              "            style=\"display:none;\">\n",
              "\n",
              "<svg xmlns=\"http://www.w3.org/2000/svg\" height=\"24px\"viewBox=\"0 0 24 24\"\n",
              "     width=\"24px\">\n",
              "    <g>\n",
              "        <path d=\"M19 3H5c-1.1 0-2 .9-2 2v14c0 1.1.9 2 2 2h14c1.1 0 2-.9 2-2V5c0-1.1-.9-2-2-2zM9 17H7v-7h2v7zm4 0h-2V7h2v10zm4 0h-2v-4h2v4z\"/>\n",
              "    </g>\n",
              "</svg>\n",
              "  </button>\n",
              "\n",
              "<style>\n",
              "  .colab-df-quickchart {\n",
              "      --bg-color: #E8F0FE;\n",
              "      --fill-color: #1967D2;\n",
              "      --hover-bg-color: #E2EBFA;\n",
              "      --hover-fill-color: #174EA6;\n",
              "      --disabled-fill-color: #AAA;\n",
              "      --disabled-bg-color: #DDD;\n",
              "  }\n",
              "\n",
              "  [theme=dark] .colab-df-quickchart {\n",
              "      --bg-color: #3B4455;\n",
              "      --fill-color: #D2E3FC;\n",
              "      --hover-bg-color: #434B5C;\n",
              "      --hover-fill-color: #FFFFFF;\n",
              "      --disabled-bg-color: #3B4455;\n",
              "      --disabled-fill-color: #666;\n",
              "  }\n",
              "\n",
              "  .colab-df-quickchart {\n",
              "    background-color: var(--bg-color);\n",
              "    border: none;\n",
              "    border-radius: 50%;\n",
              "    cursor: pointer;\n",
              "    display: none;\n",
              "    fill: var(--fill-color);\n",
              "    height: 32px;\n",
              "    padding: 0;\n",
              "    width: 32px;\n",
              "  }\n",
              "\n",
              "  .colab-df-quickchart:hover {\n",
              "    background-color: var(--hover-bg-color);\n",
              "    box-shadow: 0 1px 2px rgba(60, 64, 67, 0.3), 0 1px 3px 1px rgba(60, 64, 67, 0.15);\n",
              "    fill: var(--button-hover-fill-color);\n",
              "  }\n",
              "\n",
              "  .colab-df-quickchart-complete:disabled,\n",
              "  .colab-df-quickchart-complete:disabled:hover {\n",
              "    background-color: var(--disabled-bg-color);\n",
              "    fill: var(--disabled-fill-color);\n",
              "    box-shadow: none;\n",
              "  }\n",
              "\n",
              "  .colab-df-spinner {\n",
              "    border: 2px solid var(--fill-color);\n",
              "    border-color: transparent;\n",
              "    border-bottom-color: var(--fill-color);\n",
              "    animation:\n",
              "      spin 1s steps(1) infinite;\n",
              "  }\n",
              "\n",
              "  @keyframes spin {\n",
              "    0% {\n",
              "      border-color: transparent;\n",
              "      border-bottom-color: var(--fill-color);\n",
              "      border-left-color: var(--fill-color);\n",
              "    }\n",
              "    20% {\n",
              "      border-color: transparent;\n",
              "      border-left-color: var(--fill-color);\n",
              "      border-top-color: var(--fill-color);\n",
              "    }\n",
              "    30% {\n",
              "      border-color: transparent;\n",
              "      border-left-color: var(--fill-color);\n",
              "      border-top-color: var(--fill-color);\n",
              "      border-right-color: var(--fill-color);\n",
              "    }\n",
              "    40% {\n",
              "      border-color: transparent;\n",
              "      border-right-color: var(--fill-color);\n",
              "      border-top-color: var(--fill-color);\n",
              "    }\n",
              "    60% {\n",
              "      border-color: transparent;\n",
              "      border-right-color: var(--fill-color);\n",
              "    }\n",
              "    80% {\n",
              "      border-color: transparent;\n",
              "      border-right-color: var(--fill-color);\n",
              "      border-bottom-color: var(--fill-color);\n",
              "    }\n",
              "    90% {\n",
              "      border-color: transparent;\n",
              "      border-bottom-color: var(--fill-color);\n",
              "    }\n",
              "  }\n",
              "</style>\n",
              "\n",
              "  <script>\n",
              "    async function quickchart(key) {\n",
              "      const quickchartButtonEl =\n",
              "        document.querySelector('#' + key + ' button');\n",
              "      quickchartButtonEl.disabled = true;  // To prevent multiple clicks.\n",
              "      quickchartButtonEl.classList.add('colab-df-spinner');\n",
              "      try {\n",
              "        const charts = await google.colab.kernel.invokeFunction(\n",
              "            'suggestCharts', [key], {});\n",
              "      } catch (error) {\n",
              "        console.error('Error during call to suggestCharts:', error);\n",
              "      }\n",
              "      quickchartButtonEl.classList.remove('colab-df-spinner');\n",
              "      quickchartButtonEl.classList.add('colab-df-quickchart-complete');\n",
              "    }\n",
              "    (() => {\n",
              "      let quickchartButtonEl =\n",
              "        document.querySelector('#df-adf4514e-4778-454d-99da-066f38501ff5 button');\n",
              "      quickchartButtonEl.style.display =\n",
              "        google.colab.kernel.accessAllowed ? 'block' : 'none';\n",
              "    })();\n",
              "  </script>\n",
              "</div>\n",
              "    </div>\n",
              "  </div>\n"
            ]
          },
          "metadata": {},
          "execution_count": 8
        }
      ]
    },
    {
      "cell_type": "code",
      "source": [
        "# Splitting the data\n",
        "X = data_normalized.drop(21, axis=1)\n",
        "y = data_normalized[21]\n",
        "\n",
        "Xtrain, Xtest, ytrain, ytest = train_test_split(X,y,test_size=0.2, random_state=42)\n",
        "\n",
        "# Sets to be used in the personal functions\n",
        "train_set = pd.concat([Xtrain, ytrain], axis=1)\n",
        "test_set = pd.concat([Xtest, ytest], axis=1)"
      ],
      "metadata": {
        "id": "gasSU4xknbii"
      },
      "execution_count": null,
      "outputs": []
    },
    {
      "cell_type": "markdown",
      "source": [
        "# **2. Building k-NN**"
      ],
      "metadata": {
        "id": "0Q1OGq5YlhTB"
      }
    },
    {
      "cell_type": "markdown",
      "source": [
        "**2.1. Essential functions**\n",
        "\n"
      ],
      "metadata": {
        "id": "4Z5SHsjpmenS"
      }
    },
    {
      "cell_type": "markdown",
      "source": [
        "Step 1: Calculate The Distance.\n",
        "\n",
        "Step 2: Get Nearest Neighbors.\n",
        "\n",
        "Step 3: Make Predictions."
      ],
      "metadata": {
        "id": "djRTtzo-OkZ6"
      }
    },
    {
      "cell_type": "code",
      "execution_count": null,
      "metadata": {
        "id": "EfpxrE0F952S"
      },
      "outputs": [],
      "source": [
        "# Calculating the distance between two rows from the dataset\n",
        "def distance(row1, row2, p):\n",
        "  distance = 0.0\n",
        "  # We assume that the last column in each row is an output value (the target) which is ignored from the distance calculation\n",
        "  for i in range(len(row1)-1):\n",
        "    distance += np.abs(row1[i] - row2[i])**p\n",
        "  return (distance ** (1/p))"
      ]
    },
    {
      "cell_type": "code",
      "source": [
        "# Locating the most similar neighbors\n",
        "def get_neighbors(train, new_data_point, num_neighbors, p):\n",
        "  distances = list()\n",
        "\n",
        "  # We iterate through each row in the training set\n",
        "  for train_row_index, train_row in train.iterrows():\n",
        "    # We calculate the distances between our new datapoint and each of the datapoints (the rows) in our dataset\n",
        "    dist = distance(new_data_point.tolist(), train_row.tolist(), p)\n",
        "    distances.append((train_row_index, dist))\n",
        "\n",
        "  # We sort the distances in ascending order\n",
        "  distances.sort(key=lambda tup: tup[1])\n",
        "  nearest_neighbors = list()\n",
        "  all_neighbors = list()\n",
        "  # We retrieve the k nearest neighbors\n",
        "  for i in range(num_neighbors):\n",
        "    nearest_neighbors.append(distances[i][0])\n",
        "  return nearest_neighbors"
      ],
      "metadata": {
        "id": "puDGxp5KQE2d"
      },
      "execution_count": null,
      "outputs": []
    },
    {
      "cell_type": "code",
      "source": [
        "# Making a classification prediction with neighbors\n",
        "def predict_classification(train, new_data_point, num_neighbors, p):\n",
        "  # We retreive the indices of the neighbors\n",
        "  nearest_neighbors = get_neighbors(train, new_data_point, num_neighbors, p)\n",
        "  output_values = train.loc[nearest_neighbors, 21].tolist()\n",
        "  '''\n",
        "  Given a list of class values observed in the neighbors,\n",
        "  the max() function takes a set of unique class values\n",
        "  and calls the count on the list of class values for each class value in the set.\n",
        "  '''\n",
        "  prediction = max(set(output_values), key=output_values.count)\n",
        "  return prediction"
      ],
      "metadata": {
        "id": "qtEsPLE1VGXs"
      },
      "execution_count": null,
      "outputs": []
    },
    {
      "cell_type": "code",
      "source": [
        "# Predicting the target value for test data points using the functions created\n",
        "def k_nearest_neighbors(train, test, num_neighbors, p):\n",
        "  predictions = list()\n",
        "  for _, test_row in test.iterrows():\n",
        "    output = predict_classification(train, test_row, num_neighbors, p)\n",
        "    predictions.append(output)\n",
        "  return(predictions)"
      ],
      "metadata": {
        "id": "Bztd2fEtuzOD"
      },
      "execution_count": null,
      "outputs": []
    },
    {
      "cell_type": "markdown",
      "source": [
        "**2.2. Testing the model**"
      ],
      "metadata": {
        "id": "Bt60v2x2nJa4"
      }
    },
    {
      "cell_type": "code",
      "source": [
        "# Setting the hyperparameters\n",
        "num_neighbors = 5\n",
        "p = 2\n",
        "\n",
        "# Testing the personal k-NN\n",
        "start_time = timeit.default_timer()\n",
        "predictions = k_nearest_neighbors(train_set, test_set, num_neighbors, p)\n",
        "true_classes = test_set[21].tolist()\n",
        "personal_knn_accuracy = accuracy_score(true_classes, predictions)\n",
        "end_time = timeit.default_timer()\n",
        "personal_knn_time = end_time - start_time\n",
        "\n",
        "# Testing KNeighborsClassifier\n",
        "start_time = timeit.default_timer()\n",
        "clf = nn.KNeighborsClassifier(num_neighbors)\n",
        "clf.fit(Xtrain, ytrain)\n",
        "knn_classifier_accuracy = clf.score(Xtest,ytest)\n",
        "end_time = timeit.default_timer()\n",
        "knn_classifier_time = end_time - start_time\n",
        "\n",
        "print(\"Comparing the two models in terms of accuracy:\")\n",
        "print('Accuracy of the personal k-NN: ', personal_knn_accuracy)\n",
        "print('Accuracy of K Neighbors Classifier: ', knn_classifier_accuracy)\n",
        "print(\"\\n\")\n",
        "print(\"Comparing the two models in terms of time complexity:\")\n",
        "print('Time complexity of the personal k-NN: ', personal_knn_time)\n",
        "print('Time complexity of K Neighbors Classifier: ', knn_classifier_time)"
      ],
      "metadata": {
        "id": "eua-sSIjJ85c",
        "colab": {
          "base_uri": "https://localhost:8080/"
        },
        "outputId": "56181274-d237-4f19-eae3-6864cc07a402"
      },
      "execution_count": null,
      "outputs": [
        {
          "output_type": "stream",
          "name": "stdout",
          "text": [
            "Comparing the two models in terms of accuracy:\n",
            "\n",
            "Accuracy of the personal k-NN:  0.835\n",
            "Accuracy of K Neighbors Classifier:  0.835\n",
            "\n",
            "\n",
            "Comparing the two models in terms of time complexity:\n",
            "\n",
            "Time complexity of the personal k-NN:  313.03717703999973\n",
            "Time complexity of K Neighbors Classifier:  0.07841267600088031\n"
          ]
        }
      ]
    },
    {
      "cell_type": "markdown",
      "source": [
        "The personal approach is similar to K Neighbors Classifier in terms of accuracy, but it takes more time. Thus, we will use the K Neighbors Classifier for the rest of project."
      ],
      "metadata": {
        "id": "gGLrBE3trW8g"
      }
    },
    {
      "cell_type": "markdown",
      "source": [
        "# **3. Tuning Hyperparameters**"
      ],
      "metadata": {
        "id": "fZ_8gwGvr6mN"
      }
    },
    {
      "cell_type": "code",
      "source": [
        "# Tuning the number of neighbors\n",
        "k_values = [i for i in range (1,31)]\n",
        "scores = []\n",
        "\n",
        "for k in k_values:\n",
        "  clf = nn.KNeighborsClassifier(n_neighbors=k)\n",
        "  score = cross_val_score(clf, Xtrain, ytrain, cv=5)\n",
        "  scores.append(np.mean(score))\n",
        "\n",
        "# Finding the k value with the maximum accuracy\n",
        "best_k = k_values[np.argmax(scores)]\n",
        "\n",
        "# Printing the maximum accuracy obtained\n",
        "print(\"The best accuracy reached \", max(scores))\n",
        "\n",
        "# Plotting\n",
        "sns.lineplot(x=k_values, y=scores, marker='o')\n",
        "plt.axvline(x=best_k, color='red', linestyle='--', label=f'Best k={best_k}')\n",
        "plt.xlabel(\"K values (Number of Neighbors)\")\n",
        "plt.ylabel(\"Accuracy Score\")\n",
        "plt.title('Cross-Validation Accuracy vs. k for kNN (Original Data)')\n",
        "\n",
        "# Setting x-axis ticks to include the best k value\n",
        "plt.xticks(np.arange(min(k_values), max(k_values)+1, 2))\n",
        "plt.legend()\n",
        "plt.show()\n"
      ],
      "metadata": {
        "colab": {
          "base_uri": "https://localhost:8080/",
          "height": 489
        },
        "id": "kamnWF7gGepH",
        "outputId": "f00ca455-bb8f-45d3-d5fe-c8d155afc152"
      },
      "execution_count": null,
      "outputs": [
        {
          "output_type": "stream",
          "name": "stdout",
          "text": [
            "The best accuracy reached  0.8542500000000001\n"
          ]
        },
        {
          "output_type": "display_data",
          "data": {
            "text/plain": [
              "<Figure size 640x480 with 1 Axes>"
            ],
            "image/png": "[encoded data removed]"
          },
          "metadata": {}
        }
      ]
    },
    {
      "cell_type": "markdown",
      "source": [
        "One of the hyperparameters of k-NN is p, the power used in the norm to calculate distances. We can try implementting grid search to find the best combination (k,p) for which we get the best accuracy."
      ],
      "metadata": {
        "id": "Z_SX291quMqz"
      }
    },
    {
      "cell_type": "code",
      "source": [
        "from sklearn.model_selection import GridSearchCV\n",
        "hyperparameters = {\"n_neighbors\":range(1,31), \"p\":range(1,6)}\n",
        "\n",
        "grid_search = GridSearchCV(clf, hyperparameters, cv=5)\n",
        "grid_search.fit(Xtrain, ytrain)\n",
        "\n",
        "optimal_k = grid_search.best_params_[\"n_neighbors\"]\n",
        "optimal_p = grid_search.best_params_[\"p\"]\n",
        "\n",
        "print(\"Optimal number of neighbors is \", optimal_k)\n",
        "print(\"Optimal distance measure is the measure we get using the power of \", optimal_p)"
      ],
      "metadata": {
        "colab": {
          "base_uri": "https://localhost:8080/"
        },
        "id": "06uqVSDtuc-D",
        "outputId": "1aa5996e-2ab2-4671-b1b8-1e8c0cf320e4"
      },
      "execution_count": null,
      "outputs": [
        {
          "output_type": "stream",
          "name": "stdout",
          "text": [
            "Optimal number of neighbors is  30\n",
            "Optimal distance measure is the measure we get using the power of  2\n"
          ]
        }
      ]
    },
    {
      "cell_type": "code",
      "source": [
        "# Testing KNeighborsClassifier using the optimal (k,p)\n",
        "clf = nn.KNeighborsClassifier(n_neighbors=optimal_k, p=optimal_p)\n",
        "clf.fit(Xtrain, ytrain)\n",
        "\n",
        "optimal_accuracy = clf.score(Xtest, ytest)\n",
        "print(\"Accuracy KNeighborsClassifier using the optimal (k,p) is \", optimal_accuracy)"
      ],
      "metadata": {
        "colab": {
          "base_uri": "https://localhost:8080/"
        },
        "id": "MEYTqzq3FmU7",
        "outputId": "e8c1f7ad-e03e-4264-fb91-7e886c273623"
      },
      "execution_count": null,
      "outputs": [
        {
          "output_type": "stream",
          "name": "stdout",
          "text": [
            "Accuracy KNeighborsClassifier using the optimal (k,p) is  0.858\n"
          ]
        }
      ]
    },
    {
      "cell_type": "markdown",
      "source": [
        "# **4. Data Reduction Techniques**"
      ],
      "metadata": {
        "id": "ed60SBrlwFc8"
      }
    },
    {
      "cell_type": "markdown",
      "source": [
        "**4.1. Preliminary step**:\n",
        "Cleaning the data from the outliers and the examples in the Bayes error region."
      ],
      "metadata": {
        "id": "oFbAsvzbyWJz"
      }
    },
    {
      "cell_type": "code",
      "source": [
        "def data_cleaning(S):\n",
        "    S = shuffle(S, random_state=42)\n",
        "\n",
        "    # Splitting S randomly into two subsets S1 and S2\n",
        "    split_index = len(S) // 2\n",
        "    S1, S2 = S.iloc[:split_index], S.iloc[split_index:]\n",
        "\n",
        "    while True:\n",
        "        # Classifying S1 with S2 using the 1-NN rule\n",
        "        knn = nn.KNeighborsClassifier(n_neighbors=1)\n",
        "        knn.fit(S2.iloc[:, :-1], S2.iloc[:, -1])\n",
        "        predictions = knn.predict(S1.iloc[:, :-1])\n",
        "\n",
        "        # Removing misclassified instances from S1\n",
        "        misclassified_indices = np.where(predictions != S1.iloc[:, -1].values)[0]\n",
        "        S1 = S1.drop(index=S1.index[misclassified_indices])\n",
        "\n",
        "        # Classifying S2 with the new set S1 using the 1-NN rule\n",
        "        knn.fit(S1.iloc[:, :-1], S1.iloc[:, -1])\n",
        "        predictions = knn.predict(S2.iloc[:, :-1])\n",
        "\n",
        "        # Removing misclassified instances from S2\n",
        "        misclassified_indices = np.where(predictions != S2.iloc[:, -1].values)[0]\n",
        "        S2 = S2.drop(index=S2.index[misclassified_indices])\n",
        "\n",
        "        # Checking for stabilization\n",
        "        if len(misclassified_indices) == 0:\n",
        "            break\n",
        "\n",
        "    # Scleaned = S1 union S2\n",
        "    Scleaned = pd.concat([S1, S2])\n",
        "\n",
        "    return Scleaned"
      ],
      "metadata": {
        "id": "l9uOuXsfyr5R"
      },
      "execution_count": null,
      "outputs": []
    },
    {
      "cell_type": "markdown",
      "source": [
        "**4.2. Applying Condensed Nearest Neighbor technique**"
      ],
      "metadata": {
        "id": "nf3hJ2oI0Q2g"
      }
    },
    {
      "cell_type": "markdown",
      "source": [
        "We can either build the CNN function from scratch or use the pre-defined CondensedNearestNeighbour"
      ],
      "metadata": {
        "id": "mOr-EfcGW7PX"
      }
    },
    {
      "cell_type": "code",
      "source": [
        "#Building CNN from scratch\n",
        "def condensed_nearest_neighbor(S):\n",
        "    STORAGE = pd.DataFrame(columns=S.columns)\n",
        "    DUSTBIN = pd.DataFrame(columns=S.columns)\n",
        "\n",
        "    # Drawing randomly a training example from S and putting it in STORAGE\n",
        "    random_index = np.random.choice(len(S))\n",
        "    STORAGE = pd.concat([STORAGE, S.iloc[random_index].to_frame().T], ignore_index=True)\n",
        "    STORAGE[STORAGE.columns[-1]] = STORAGE[STORAGE.columns[-1]].astype('int64')\n",
        "\n",
        "    while True:\n",
        "        STORAGE_before = STORAGE.copy()\n",
        "        for _, xi in S.iterrows():\n",
        "            feature_names = xi.index[:-1]  # Excluding the last column which is the target\n",
        "            knn = nn.KNeighborsClassifier(n_neighbors=1)\n",
        "            knn.fit(STORAGE.iloc[:, :-1], STORAGE[STORAGE.columns[-1]])\n",
        "            prediction = knn.predict(xi[feature_names].to_frame().T)[0]\n",
        "\n",
        "            if prediction == xi.iloc[-1]:\n",
        "                DUSTBIN = pd.concat([DUSTBIN, xi.to_frame().T], ignore_index=True)\n",
        "            else:\n",
        "                STORAGE = pd.concat([STORAGE, xi.to_frame().T], ignore_index=True)\n",
        "\n",
        "        # Check for stabilization\n",
        "        if STORAGE.equals(STORAGE_before):\n",
        "            break\n",
        "\n",
        "    return STORAGE"
      ],
      "metadata": {
        "id": "JAFmv75k-sew"
      },
      "execution_count": null,
      "outputs": []
    },
    {
      "cell_type": "code",
      "source": [
        "# Applying the preliminary step\n",
        "Scleaned = data_cleaning(train_set.copy())\n",
        "\n",
        "# Applying the second step\n",
        "STORAGE = condensed_nearest_neighbor(Scleaned.copy())"
      ],
      "metadata": {
        "id": "dYd10XdqzMSB"
      },
      "execution_count": null,
      "outputs": []
    },
    {
      "cell_type": "markdown",
      "source": [
        "**4.3. Comparing the two datasets**"
      ],
      "metadata": {
        "id": "tnIHK5CT0s5U"
      }
    },
    {
      "cell_type": "code",
      "source": [
        "# Comparing the number of examples in both datasets\n",
        "print(\"Initial number of data points in the training set is \", len(train_set))\n",
        "print(\"Number of data points in the training set after applying data reduction technique is \", len(STORAGE))"
      ],
      "metadata": {
        "colab": {
          "base_uri": "https://localhost:8080/"
        },
        "id": "YpN9QxJHzpLc",
        "outputId": "9a5de600-3daf-437d-bf74-3dee206f559c"
      },
      "execution_count": null,
      "outputs": [
        {
          "output_type": "stream",
          "name": "stdout",
          "text": [
            "Initial number of data points in the training set is  4000\n",
            "Number of data points in the training set after applying data reduction technique is  793\n"
          ]
        }
      ]
    },
    {
      "cell_type": "code",
      "source": [
        "# Comparing the accuracy of 1-NN trained on both datasets\n",
        "num_neighbors = 1\n",
        "\n",
        "X_reduced_train = STORAGE.drop(21, axis=1)\n",
        "y_reduced_train = STORAGE[21]\n",
        "\n",
        "\n",
        "clf_original = nn.KNeighborsClassifier(num_neighbors)\n",
        "clf_reduced = nn.KNeighborsClassifier(num_neighbors)\n",
        "\n",
        "clf_original.fit(Xtrain, ytrain)\n",
        "clf_reduced.fit(X_reduced_train, y_reduced_train)\n",
        "\n",
        "print('Accuracy of 1-NN applied on the original data:', clf_original.score(Xtest,ytest))\n",
        "print('Accuracy of 1-NN applied on the reduced data:', clf_reduced.score(Xtest,ytest))"
      ],
      "metadata": {
        "colab": {
          "base_uri": "https://localhost:8080/"
        },
        "id": "2nFglKGs0qa9",
        "outputId": "66975da8-9d9f-44d7-9fae-116c0b642c57"
      },
      "execution_count": null,
      "outputs": [
        {
          "output_type": "stream",
          "name": "stdout",
          "text": [
            "Accuracy of 1-NN applied on the original data: 0.785\n",
            "Accuracy of 1-NN applied on the reduced data: 0.761\n"
          ]
        }
      ]
    },
    {
      "cell_type": "markdown",
      "source": [
        "\n",
        "Despite reducing the training data points by a factor of five, leading to improved memory usage and runtime efficiency, the accuracy only experienced a marginal decrease of 2.4%."
      ],
      "metadata": {
        "id": "iNntwuuwRcgo"
      }
    },
    {
      "cell_type": "markdown",
      "source": [
        "# **5. Speeding-up distance calculations**"
      ],
      "metadata": {
        "id": "IJU2-6gy1T-X"
      }
    },
    {
      "cell_type": "markdown",
      "source": [
        "The k-Nearest Neighbors (k-NN) algorithm employs advanced techniques such as KD-trees and Ball Trees to optimize distance calculations, effectively reducing time complexity.\n",
        "Instead of relying on brute force, where distances between a point and all others are computed exhaustively, k-NN organizes the dataset into hierarchical structures like KD-trees and Ball Trees. These tree structures optimize the search for nearest neighbors by efficiently narrowing down the possibilities at each level of the tree."
      ],
      "metadata": {
        "id": "bYLAsRSOVida"
      }
    },
    {
      "cell_type": "code",
      "source": [
        "# Initialize classifiers with different algorithms\n",
        "brute_force_knn = nn.KNeighborsClassifier(n_neighbors=1, algorithm='brute')\n",
        "ball_tree_knn = nn.KNeighborsClassifier(n_neighbors=1, algorithm='ball_tree')\n",
        "kd_tree_knn = nn.KNeighborsClassifier(n_neighbors=1, algorithm='kd_tree')\n",
        "\n",
        "# Time the brute-force 1NN algorithm\n",
        "start_time = timeit.default_timer()\n",
        "brute_force_knn.fit(Xtrain, ytrain)\n",
        "brute_force_predictions = brute_force_knn.predict(Xtest)\n",
        "end_time = timeit.default_timer()\n",
        "brute_force_time = end_time - start_time\n",
        "brute_force_accuracy = brute_force_knn.score(Xtest,ytest)\n",
        "\n",
        "# Time the ball-tree 1NN algorithm\n",
        "start_time = timeit.default_timer()\n",
        "ball_tree_knn.fit(Xtrain, ytrain)\n",
        "ball_tree_predictions = ball_tree_knn.predict(Xtest)\n",
        "end_time = timeit.default_timer()\n",
        "ball_tree_time = end_time - start_time\n",
        "ball_tree_accuracy = ball_tree_knn.score(Xtest,ytest)\n",
        "\n",
        "# Time the KD-tree 1NN algorithm\n",
        "start_time = timeit.default_timer()\n",
        "kd_tree_knn.fit(Xtrain, ytrain)\n",
        "kd_tree_predictions = kd_tree_knn.predict(Xtest)\n",
        "end_time = timeit.default_timer()\n",
        "kd_tree_time = end_time - start_time\n",
        "kd_tree_accuracy = kd_tree_knn.score(Xtest,ytest)\n",
        "\n",
        "\n",
        "# Print the timing results\n",
        "print(f\"Brute-force 1NN Time: {brute_force_time:.4f} seconds\")\n",
        "print(f\"Ball-tree 1NN Time: {ball_tree_time:.4f} seconds\")\n",
        "print(f\"KD-tree 1NN Time: {kd_tree_time:.4f} seconds\")\n",
        "print(\"\\n\")\n",
        "\n",
        "# Print the accuracy results\n",
        "print(f\"Brute-force 1NN Accuracy: {brute_force_accuracy:.3f}\")\n",
        "print(f\"Ball-tree 1NN Accuracy: {ball_tree_accuracy:.3f}\")\n",
        "print(f\"KD-tree 1NN Accuracy: {kd_tree_accuracy:.3f}\")"
      ],
      "metadata": {
        "colab": {
          "base_uri": "https://localhost:8080/"
        },
        "id": "fGuuQWRz1uFd",
        "outputId": "c6d482fc-0e43-4941-8c22-6980d57184fd"
      },
      "execution_count": null,
      "outputs": [
        {
          "output_type": "stream",
          "name": "stdout",
          "text": [
            "Brute-force 1NN Time: 0.0930 seconds\n",
            "Ball-tree 1NN Time: 0.1624 seconds\n",
            "KD-tree 1NN Time: 0.2310 seconds\n",
            "\n",
            "\n",
            "Brute-force 1NN Accuracy: 0.785\n",
            "Ball-tree 1NN Accuracy: 0.785\n",
            "KD-tree 1NN Accuracy: 0.785\n"
          ]
        }
      ]
    },
    {
      "cell_type": "markdown",
      "source": [
        "To effectively utilize a kd tree, it is recommended to have a **significantly larger** number of data points compared to $2^n$, where n is the dimensionality of the dataset ([Otair, 2013](https://arxiv.org/ftp/arxiv/papers/1303/1303.1951.pdf)). In the case of the Waveform dataset with a dimensionality of 22 and a limited 5000 examples, we employ PCA to reduce dimensionality. Subsequently, we assess and compare the execution times for each algorithm."
      ],
      "metadata": {
        "id": "6LCUf9IcNj0E"
      }
    },
    {
      "cell_type": "code",
      "source": [
        "# Finding a good number of components\n",
        "threshold = 0.8\n",
        "pca = PCA()\n",
        "\n",
        "X = pd.concat([Xtrain, Xtest], axis=0)\n",
        "pca.fit(X)\n",
        "\n",
        "# Calculating the cumulative explained variance\n",
        "cumulative_variance = np.cumsum(pca.explained_variance_ratio_)\n",
        "num_components = np.argmax(cumulative_variance >= threshold) + 1"
      ],
      "metadata": {
        "id": "Io2-XyS6RCp_"
      },
      "execution_count": null,
      "outputs": []
    },
    {
      "cell_type": "code",
      "source": [
        "print(\"Number of components to use in PCA is\", num_components)"
      ],
      "metadata": {
        "colab": {
          "base_uri": "https://localhost:8080/"
        },
        "id": "Dko_YMFbSVub",
        "outputId": "12965906-34b4-49bc-8d8e-a4f4e561abb4"
      },
      "execution_count": null,
      "outputs": [
        {
          "output_type": "stream",
          "name": "stdout",
          "text": [
            "Number of components to use in PCA is 10\n"
          ]
        }
      ]
    },
    {
      "cell_type": "code",
      "source": [
        "pca = PCA(n_components=num_components)\n",
        "Xtrain_pca = pca.fit_transform(Xtrain)\n",
        "Xtest_pca = pca.fit_transform(Xtest)"
      ],
      "metadata": {
        "id": "VdaZ0s9XOqQm"
      },
      "execution_count": null,
      "outputs": []
    },
    {
      "cell_type": "code",
      "source": [
        "# Time the brute-force 1NN algorithm\n",
        "start_time = timeit.default_timer()\n",
        "brute_force_knn.fit(Xtrain_pca, ytrain)\n",
        "brute_force_predictions = brute_force_knn.predict(Xtest_pca)\n",
        "end_time = timeit.default_timer()\n",
        "brute_force_time = end_time - start_time\n",
        "brute_force_accuracy = brute_force_knn.score(Xtest_pca,ytest)\n",
        "\n",
        "# Time the ball-tree 1NN algorithm\n",
        "start_time = timeit.default_timer()\n",
        "ball_tree_knn.fit(Xtrain_pca, ytrain)\n",
        "ball_tree_predictions = ball_tree_knn.predict(Xtest_pca)\n",
        "end_time = timeit.default_timer()\n",
        "ball_tree_time = end_time - start_time\n",
        "ball_tree_accuracy = ball_tree_knn.score(Xtest_pca,ytest)\n",
        "\n",
        "# Time the KD-tree 1NN algorithm\n",
        "start_time = timeit.default_timer()\n",
        "kd_tree_knn.fit(Xtrain_pca, ytrain)\n",
        "kd_tree_predictions = kd_tree_knn.predict(Xtest_pca)\n",
        "end_time = timeit.default_timer()\n",
        "kd_tree_time = end_time - start_time\n",
        "kd_tree_accuracy = kd_tree_knn.score(Xtest_pca,ytest)\n",
        "\n",
        "\n",
        "# Print the timing results\n",
        "print(f\"Brute-force 1NN Time: {brute_force_time:.4f} seconds\")\n",
        "print(f\"Ball-tree 1NN Time: {ball_tree_time:.4f} seconds\")\n",
        "print(f\"KD-tree 1NN Time: {kd_tree_time:.4f} seconds\")\n",
        "print(\"\\n\")\n",
        "\n",
        "# Print the accuracy results\n",
        "print(f\"Brute-force 1NN Accuracy: {brute_force_accuracy:.3f}\")\n",
        "print(f\"Ball-tree 1NN Accuracy: {ball_tree_accuracy:.3f}\")\n",
        "print(f\"KD-tree 1NN Accuracy: {kd_tree_accuracy:.3f}\")"
      ],
      "metadata": {
        "colab": {
          "base_uri": "https://localhost:8080/"
        },
        "id": "yo23JMXoPfXY",
        "outputId": "7af0a63a-229b-43e7-f79d-953a38c71379"
      },
      "execution_count": null,
      "outputs": [
        {
          "output_type": "stream",
          "name": "stdout",
          "text": [
            "Brute-force 1NN Time: 0.0739 seconds\n",
            "Ball-tree 1NN Time: 0.0864 seconds\n",
            "KD-tree 1NN Time: 0.0809 seconds\n",
            "\n",
            "\n",
            "Brute-force 1NN Accuracy: 0.810\n",
            "Ball-tree 1NN Accuracy: 0.810\n",
            "KD-tree 1NN Accuracy: 0.810\n"
          ]
        }
      ]
    },
    {
      "cell_type": "markdown",
      "source": [
        "Reducing the dataset's dimensionality led to enhancements in both accuracy and runtime. Nevertheless, brute force continues to show slightly better performance compared to ball-tree and kd-tree."
      ],
      "metadata": {
        "id": "DK12k63gYN8w"
      }
    },
    {
      "cell_type": "markdown",
      "source": [
        "# **6. Impact of Dataset Imbalance**"
      ],
      "metadata": {
        "id": "UhV-2wAm2K5l"
      }
    },
    {
      "cell_type": "markdown",
      "source": [
        "One extra problem that k-NN faces is the imbalance of the\n",
        "dataset. For this project, we are applying the k-NN algorithm on the Waveform dataset which contains 5000 data points\n",
        "from 3 different classes of waves. As the two plots below show, this\n",
        "dataset is balanced. However, we will generate an artificial\n",
        "imbalance in the training data to analyze its influence on the\n",
        "accuracy of the model."
      ],
      "metadata": {
        "id": "TGOj7-U4WdBW"
      }
    },
    {
      "cell_type": "markdown",
      "source": [
        "**6.1. Classes distribution**"
      ],
      "metadata": {
        "id": "Elvhy3qp2eMV"
      }
    },
    {
      "cell_type": "code",
      "source": [
        "# Calculating class percentages from the whole dataset\n",
        "class_counts = data[21].value_counts()\n",
        "class_percentages = class_counts / len(data) * 100\n",
        "\n",
        "class_labels = ['Class ' + str(label) for label in class_percentages.index]\n",
        "\n",
        "# Plotting the pie chart\n",
        "plt.figure(figsize=(4, 4))\n",
        "plt.pie(class_percentages, labels=class_labels, autopct='%1.1f%%', startangle=140, colors=['mediumblue', 'royalblue', 'lightsteelblue'])\n",
        "plt.title('Class Distribution in the whole dataset')\n",
        "plt.show()"
      ],
      "metadata": {
        "colab": {
          "base_uri": "https://localhost:8080/",
          "height": 367
        },
        "id": "VqcMpOmTydY5",
        "outputId": "dd7168fb-87f6-43cd-e1a0-8c10cd2e187d"
      },
      "execution_count": null,
      "outputs": [
        {
          "output_type": "display_data",
          "data": {
            "text/plain": [
              "<Figure size 400x400 with 1 Axes>"
            ],
            "image/png": "[encoded data removed]"
          },
          "metadata": {}
        }
      ]
    },
    {
      "cell_type": "code",
      "source": [
        "# Calculate class percentages from the training dataset\n",
        "class_counts = train_set[21].value_counts()\n",
        "class_percentages = class_counts / len(data) * 100\n",
        "\n",
        "class_labels = ['Class ' + str(label) for label in class_percentages.index]\n",
        "\n",
        "# Plot the pie chart\n",
        "plt.figure(figsize=(4, 4))\n",
        "plt.pie(class_percentages, labels=class_labels, autopct='%1.1f%%', startangle=140, colors=['mediumblue', 'royalblue', 'lightsteelblue'])\n",
        "plt.title('Class Distribution in the training set')\n",
        "plt.show()"
      ],
      "metadata": {
        "colab": {
          "base_uri": "https://localhost:8080/",
          "height": 367
        },
        "id": "PRA9h7Gr39UH",
        "outputId": "85f8057e-9794-42af-e2cc-8ebc4d14612c"
      },
      "execution_count": null,
      "outputs": [
        {
          "output_type": "display_data",
          "data": {
            "text/plain": [
              "<Figure size 400x400 with 1 Axes>"
            ],
            "image/png": "[encoded data removed]"
          },
          "metadata": {}
        }
      ]
    },
    {
      "cell_type": "markdown",
      "source": [
        "**6.2. Generating artificial imbalance**"
      ],
      "metadata": {
        "id": "kYeCAIn62zr5"
      }
    },
    {
      "cell_type": "markdown",
      "source": [
        "The waves' dataset is pretty balanced. We can generate artificially imbalancy in the training data to analyze its impact on the accuracy on the\n",
        "1000 test waves."
      ],
      "metadata": {
        "id": "b-HaPnA4USkj"
      }
    },
    {
      "cell_type": "markdown",
      "source": [
        "Let:\n",
        "\n",
        "a be the number of examples in training set from class 2\n",
        "\n",
        "b be the number of examples in training set from class 1\n",
        "\n",
        "c be number of examples in training set from class 0"
      ],
      "metadata": {
        "id": "TjbtL7dsfvWo"
      }
    },
    {
      "cell_type": "code",
      "source": [
        "a = int(0.346 * len(train_set))\n",
        "b = int(0.323 * len(train_set))\n",
        "c = int(0.331 * len(train_set))"
      ],
      "metadata": {
        "id": "uW6IjysxfuJI"
      },
      "execution_count": null,
      "outputs": []
    },
    {
      "cell_type": "markdown",
      "source": [
        "We want the final disribution to be 90% class 2, 5% class 1 and 5% class 0 by oversampling class 2 and not removing any examples from the other two classes. Thus, b = c = 0.05 * len(imbalanced_train_dataset)"
      ],
      "metadata": {
        "id": "jHWMogvlhOcA"
      }
    },
    {
      "cell_type": "code",
      "source": [
        "len_imbalanced_train_dataset = b / 0.05"
      ],
      "metadata": {
        "id": "AkkuDp9Fh4ip"
      },
      "execution_count": null,
      "outputs": []
    },
    {
      "cell_type": "code",
      "source": [
        "# Specify the desired class distribution\n",
        "desired_distribution = {0: int(0.05*len_imbalanced_train_dataset), 1: int(0.05*len_imbalanced_train_dataset), 2: int(0.90*len_imbalanced_train_dataset)}\n",
        "\n",
        "pipeline = Pipeline([\n",
        "    ('oversample', RandomOverSampler(sampling_strategy={2: desired_distribution[2]})),\n",
        "])\n",
        "\n",
        "Xtrain_imbalanced, ytrain_imbalanced = pipeline.fit_resample(Xtrain, ytrain)\n",
        "\n",
        "train_imbalanced_dataset = pd.concat([Xtrain_imbalanced, ytrain_imbalanced], axis=1)\n",
        "\n",
        "class_counts = train_imbalanced_dataset[21].value_counts()\n",
        "class_percentages = class_counts / len(train_imbalanced_dataset) * 100\n",
        "\n",
        "plt.figure(figsize=(4, 4))\n",
        "plt.pie(class_percentages, labels=class_percentages.index, autopct='%1.1f%%', startangle=140, colors=['mediumblue', 'royalblue', 'lightsteelblue'])\n",
        "plt.title('Class Distribution after oversampling')\n",
        "plt.show()"
      ],
      "metadata": {
        "colab": {
          "base_uri": "https://localhost:8080/",
          "height": 422
        },
        "id": "gtlgtkHtcQE3",
        "outputId": "d3b7dcfe-79b4-42d7-f614-f3906fe83227"
      },
      "execution_count": null,
      "outputs": [
        {
          "output_type": "stream",
          "name": "stderr",
          "text": [
            "/usr/local/lib/python3.10/dist-packages/imblearn/utils/_validation.py:313: UserWarning: After over-sampling, the number of samples (23256) in class 2 will be larger than the number of samples in the majority class (class #2 -> 1383)\n",
            "  warnings.warn(\n"
          ]
        },
        {
          "output_type": "display_data",
          "data": {
            "text/plain": [
              "<Figure size 400x400 with 1 Axes>"
            ],
            "image/png": "[encoded data removed]"
          },
          "metadata": {}
        }
      ]
    },
    {
      "cell_type": "markdown",
      "source": [
        "**6.3. Comparing the two datasets**"
      ],
      "metadata": {
        "id": "-rItuiBr44O6"
      }
    },
    {
      "cell_type": "code",
      "source": [
        "# Comparing the number of examples in both datasets\n",
        "print(\"Initial number of data points in the training set is\", len(train_set))\n",
        "print(\"Number of data points in the training set after applying oversampling is\", len(train_imbalanced_dataset))"
      ],
      "metadata": {
        "colab": {
          "base_uri": "https://localhost:8080/"
        },
        "id": "cDwoDYCO44PG",
        "outputId": "3738b581-84b2-46d3-8d49-8ed2672e63c0"
      },
      "execution_count": null,
      "outputs": [
        {
          "output_type": "stream",
          "name": "stdout",
          "text": [
            "Initial number of data points in the training set is  4000\n",
            "Number of data points in the training set after applying oversampling is  25873\n"
          ]
        }
      ]
    },
    {
      "cell_type": "code",
      "source": [
        "X_imbalanced = train_imbalanced_dataset.drop(21, axis=1)\n",
        "y_imbalanced = train_imbalanced_dataset[21]\n",
        "\n",
        "clf_balanced = nn.KNeighborsClassifier(n_neighbors = 30)\n",
        "clf_imbalanced = nn.KNeighborsClassifier(n_neighbors = 30)\n",
        "\n",
        "clf_balanced.fit(Xtrain, ytrain)\n",
        "clf_imbalanced.fit(X_imbalanced, y_imbalanced)\n",
        "\n",
        "print('Accuracy before oversampling:', clf_balanced.score(Xtest, ytest))\n",
        "print('Accuracy after oversampling:', clf_imbalanced.score(Xtest, ytest))"
      ],
      "metadata": {
        "id": "Pi6COpiqUSPs",
        "colab": {
          "base_uri": "https://localhost:8080/"
        },
        "outputId": "c6aec657-753a-48ec-d553-e6f9ac82a250"
      },
      "execution_count": null,
      "outputs": [
        {
          "output_type": "stream",
          "name": "stdout",
          "text": [
            "Accuracy before oversampling: 0.858\n",
            "Accuracy after oversampling: 0.728\n"
          ]
        }
      ]
    },
    {
      "cell_type": "markdown",
      "source": [
        "The accuracy values achieved by applying a k-NN model on the test set with parameters k = 30 and p = 2 indicate a decline in performance, with a reduction of 12.7% in accuracy following the oversampling of class 2."
      ],
      "metadata": {
        "id": "wSx00zcuXBF6"
      }
    },
    {
      "cell_type": "markdown",
      "source": [
        "**6.4. Tuning k with respect to the F-measure and comparing the performance with the accuracy**"
      ],
      "metadata": {
        "id": "CvpNN-bLKaDj"
      }
    },
    {
      "cell_type": "markdown",
      "source": [
        "In imbalanced settings, relying solely on accuracy as an\n",
        "evaluation metric may be misleading. In scenarios where\n",
        "one class vastly outnumbers the others, a model that predicts\n",
        "the majority class most of the time can achieve high\n",
        "accuracy without effectively addressing the minority classes.\n",
        "Therefore, in imbalanced settings, it is essential to consider\n",
        "alternative evaluation metrics such as F1-score."
      ],
      "metadata": {
        "id": "Z4fxE7vAX8Pq"
      }
    },
    {
      "cell_type": "code",
      "source": [
        "f1_list=[]\n",
        "accuracies=[]\n",
        "k_list=[]\n",
        "for k in range(1,31):\n",
        "    clf = nn.KNeighborsClassifier(n_neighbors=k)\n",
        "    clf.fit(X_imbalanced,y_imbalanced)\n",
        "    pred = clf.predict(Xtest)\n",
        "    f1score = f1_score(ytest,pred,average='macro')\n",
        "    accuracy = clf.score(Xtest,ytest)\n",
        "    f1_list.append(f1score)\n",
        "    accuracies.append(accuracy)\n",
        "    k_list.append(k)\n",
        "\n",
        "plt.plot(k_list, f1_list, marker = 'o', label = \"F1-score\")\n",
        "plt.plot(k_list, accuracies, marker = 'o', label = \"Accuracy\")\n",
        "\n",
        "plt.legend()\n",
        "plt.xlabel(\"Number of neighbors\")\n",
        "\n",
        "plt.title(\"F1-score VS Accuracy for different values of k\")\n",
        "plt.show()\n"
      ],
      "metadata": {
        "colab": {
          "base_uri": "https://localhost:8080/",
          "height": 472
        },
        "id": "-Fdr_pll_ezq",
        "outputId": "dddaf7c7-91fd-4700-8514-3efa58c5e956"
      },
      "execution_count": null,
      "outputs": [
        {
          "output_type": "display_data",
          "data": {
            "text/plain": [
              "<Figure size 640x480 with 1 Axes>"
            ],
            "image/png": "[encoded data removed]"
          },
          "metadata": {}
        }
      ]
    },
    {
      "cell_type": "markdown",
      "source": [
        "As shown in the plot, the k value that gives the best tradeoff\n",
        "between precision and recall according to the F-measure\n",
        "is k = 4. The decreasing trend in both accuracy and F1-score\n",
        "after the optimal k suggests that increasing the complexity\n",
        "of the model (considering more neighbors) might not be\n",
        "beneficial and could lead to overfitting or capturing noise in\n",
        "the data."
      ],
      "metadata": {
        "id": "6Jk2gVSEYGN_"
      }
    }
  ]
}